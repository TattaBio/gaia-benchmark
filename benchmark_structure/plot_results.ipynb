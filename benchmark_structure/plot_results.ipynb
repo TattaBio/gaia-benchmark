{
 "cells": [
  {
   "cell_type": "code",
   "execution_count": 6,
   "metadata": {},
   "outputs": [],
   "source": [
    "import pandas as pd\n",
    "from matplotlib import pyplot as plt"
   ]
  },
  {
   "cell_type": "code",
   "execution_count": null,
   "metadata": {},
   "outputs": [],
   "source": [
    "def get_rank(row, level='family'):\n",
    "    \"\"\"Get rank at family/superfamily/fold level by parsing SCOP IDs like 'a.1.2.3'\"\"\"\n",
    "    target = row['family']\n",
    "    hits = row['hits_family']\n",
    "\n",
    "    if level == 'superfamily':\n",
    "        target = '.'.join(target.split('.')[:3])\n",
    "        hits = ['.'.join(h.split('.')[:3]) for h in hits]\n",
    "    elif level == 'fold':\n",
    "        target = '.'.join(target.split('.')[:2])\n",
    "        hits = ['.'.join(h.split('.')[:2]) for h in hits]\n",
    "\n",
    "    return next((i + 1 for i, h in enumerate(hits) if h == target), float('inf'))\n",
    "    \n",
    "scop_lookup = dict(map(str.split, open('scop_lookup.tsv')))\n",
    "\n",
    "def parse_search_results(file):\n",
    "    df = pd.read_csv(file, sep='\\t', header=None, names=['id', 'hits', 'score'])\n",
    "    df = df[df['id'] != df['hits']]  # Remove self-hits\n",
    "    # Group hits and process SCOP classifications\n",
    "    results = df.groupby('id')['hits'].apply(list).reset_index()\n",
    "    results['family'] = results['id'].apply(lambda x: scop_lookup[x])\n",
    "    results['hits_family'] = results['hits'].apply(lambda x: [scop_lookup[item] for item in x])\n",
    "    results['rank_family'] = results.apply(lambda x: get_rank(x, level='family'), axis=1)\n",
    "    results['rank_superfamily'] = results.apply(lambda x: get_rank(x, level='superfamily'), axis=1)\n",
    "    results['rank_fold'] = results.apply(lambda x: get_rank(x, level='fold'), axis=1)\n",
    "    return results\n",
    "\n",
    "blastp_results = parse_search_results('search_result/blastp.tsv')\n",
    "mmseqs_results = parse_search_results('search_result/mmseqs2.tsv')\n",
    "foldseek_results = parse_search_results('search_result/foldseek.tsv')\n",
    "esm2_results = parse_search_results('search_result/esm2_t33_650M_UR50D.tsv')\n",
    "glm2_results = parse_search_results('search_result/gLM2_650M_embed.tsv')"
   ]
  },
  {
   "cell_type": "code",
   "execution_count": null,
   "metadata": {},
   "outputs": [],
   "source": [
    "for level in ['family', 'superfamily', 'fold']:\n",
    "\n",
    "    # Function to calculate recall scores for given k values\n",
    "    def calculate_recall_scores(df_split, k_values):\n",
    "        recall_scores = []\n",
    "        for k in k_values:\n",
    "            recall_at_k = (df_split[f'rank_{level}'] <= k).mean()\n",
    "            recall_scores.append(recall_at_k)\n",
    "        return recall_scores\n",
    "\n",
    "    # Define k values\n",
    "    k_values = range(1, 101)\n",
    "\n",
    "    # Calculate recall scores\n",
    "    esm2_recall_scores = calculate_recall_scores(esm2_results, k_values)\n",
    "    glm2_recall_scores = calculate_recall_scores(glm2_results, k_values)\n",
    "    foldseek_recall_scores = calculate_recall_scores(foldseek_results, k_values)\n",
    "    mmseqs_recall_scores = calculate_recall_scores(mmseqs_results, k_values)\n",
    "    blastp_recall_scores = calculate_recall_scores(blastp_results, k_values)\n",
    "\n",
    "    plt.figure(figsize=(6, 6), dpi=300)\n",
    "    plt.plot(k_values, glm2_recall_scores, label='Gaia', color='#2EDD97')\n",
    "    plt.plot(k_values, esm2_recall_scores, label='ESM2', color='#00A5FF')\n",
    "    plt.plot(k_values, mmseqs_recall_scores, label='MMseqs2', color='#FFA500')\n",
    "    plt.plot(k_values, blastp_recall_scores, label='BLASTp', color='gray')\n",
    "    plt.plot(k_values, foldseek_recall_scores, label='Foldseek', color='purple')\n",
    "\n",
    "    plt.xlabel('K', fontsize=14)\n",
    "    plt.ylabel('Recall@K', fontsize=14)\n",
    "    plt.legend(loc='lower right', fontsize=12)\n",
    "    plt.title(f'Protein structure {level} sensitivity', fontsize=16)\n",
    "    plt.grid(False)\n",
    "\n",
    "    plt.xticks(fontsize=14)\n",
    "    plt.yticks(fontsize=14)\n",
    "    plt.xlim(1, 30)"
   ]
  }
 ],
 "metadata": {
  "kernelspec": {
   "display_name": ".glm2-env",
   "language": "python",
   "name": "python3"
  },
  "language_info": {
   "codemirror_mode": {
    "name": "ipython",
    "version": 3
   },
   "file_extension": ".py",
   "mimetype": "text/x-python",
   "name": "python",
   "nbconvert_exporter": "python",
   "pygments_lexer": "ipython3",
   "version": "3.10.12"
  }
 },
 "nbformat": 4,
 "nbformat_minor": 2
}
