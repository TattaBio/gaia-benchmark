{
 "cells": [
  {
   "cell_type": "code",
   "execution_count": 19,
   "metadata": {},
   "outputs": [],
   "source": [
    "import pickle\n",
    "from matplotlib import pyplot as plt"
   ]
  },
  {
   "cell_type": "code",
   "execution_count": 20,
   "metadata": {},
   "outputs": [],
   "source": [
    "with open(\"data/glm2_results_3k.pkl\", \"rb\") as f:\n",
    "    results_glm2 = pickle.load(f)\n",
    "with open(\"data/esm2_results_3k.pkl\", \"rb\") as f:\n",
    "    results_esm2 = pickle.load(f)"
   ]
  },
  {
   "cell_type": "code",
   "execution_count": 21,
   "metadata": {},
   "outputs": [],
   "source": [
    "def count_context_matches(result, k, num_matches):\n",
    "    num_correct = 0\n",
    "    for x in result[:k]:\n",
    "        if x >= num_matches:\n",
    "            num_correct += 1\n",
    "    return num_correct"
   ]
  },
  {
   "cell_type": "code",
   "execution_count": null,
   "metadata": {},
   "outputs": [],
   "source": [
    "k_values = range(1,11)\n",
    "plot_df = []\n",
    "num_matches = 7\n",
    "\n",
    "glm2_recalls = []\n",
    "esm2_recalls = []\n",
    "for k in k_values:\n",
    "    recall_at_k_glm2 = sum([1 for result in results_glm2 if count_context_matches(result, k, num_matches)>=1])/len(results_glm2)\n",
    "    recall_at_k_esm2 = sum([1 for result in results_esm2 if count_context_matches(result, k, num_matches)>=1])/len(results_esm2)\n",
    "    glm2_recalls.append(recall_at_k_glm2)\n",
    "    esm2_recalls.append(recall_at_k_esm2)\n",
    "\n",
    "plt.figure(figsize=(6, 6), dpi=300)\n",
    "plt.plot(k_values, glm2_recalls, label='Gaia', color='#2edd97')\n",
    "plt.plot(k_values, esm2_recalls, label='ESM2', color='#00A5FF')\n",
    "\n",
    "\n",
    "plt.xlabel('K', fontsize=14)\n",
    "plt.ylabel('Recall', fontsize=14)\n",
    "plt.legend(loc='lower right', fontsize=12)\n",
    "plt.title('Genomic context sensitivity', fontsize=16)\n",
    "plt.grid(False)\n",
    "plt.xticks(fontsize=14)\n",
    "plt.yticks(fontsize=14)\n",
    "plt.xlim(1, 10)\n",
    "\n"
   ]
  }
 ],
 "metadata": {
  "kernelspec": {
   "display_name": ".glm2-env",
   "language": "python",
   "name": "python3"
  },
  "language_info": {
   "codemirror_mode": {
    "name": "ipython",
    "version": 3
   },
   "file_extension": ".py",
   "mimetype": "text/x-python",
   "name": "python",
   "nbconvert_exporter": "python",
   "pygments_lexer": "ipython3",
   "version": "3.10.12"
  }
 },
 "nbformat": 4,
 "nbformat_minor": 2
}
