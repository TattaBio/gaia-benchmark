{
 "cells": [
  {
   "cell_type": "code",
   "execution_count": 16,
   "metadata": {},
   "outputs": [],
   "source": [
    "import pickle\n",
    "from matplotlib import pyplot as plt"
   ]
  },
  {
   "cell_type": "code",
   "execution_count": 19,
   "metadata": {},
   "outputs": [],
   "source": [
    "with open(\"data/mmseqs_results_3k.pkl\", \"rb\") as f:\n",
    "    results_mmseqs = pickle.load(f)\n",
    "with open(\"data/glm2_results_3k.pkl\", \"rb\") as f:\n",
    "    results_glm2 = pickle.load(f)\n",
    "with open(\"data/esm2_results_3k.pkl\", \"rb\") as f:\n",
    "    results_esm2 = pickle.load(f)\n",
    "with open(\"data/blastp_results_3k.pkl\", \"rb\") as f:\n",
    "    results_blastp = pickle.load(f)\n"
   ]
  },
  {
   "cell_type": "code",
   "execution_count": null,
   "metadata": {},
   "outputs": [],
   "source": [
    "k_values = range(1,11)\n",
    "plot_df = []\n",
    "match_pct_threshold = 0.7\n",
    "\n",
    "def has_context_matches(result, k, threshold):\n",
    "    if not result:\n",
    "        return 0\n",
    "    return int(max(result[:k]) >= threshold)\n",
    "\n",
    "def get_recall_at_k(results, k, threshold):\n",
    "    return sum([has_context_matches(result, k, threshold) for result in results]) / len(results)\n",
    "\n",
    "\n",
    "glm2_recalls = []\n",
    "esm2_recalls = []\n",
    "mmseqs_recalls = []\n",
    "blastp_recalls = []\n",
    "for k in k_values:\n",
    "    mmseqs_recalls.append(get_recall_at_k(results_mmseqs, k, match_pct_threshold))\n",
    "    glm2_recalls.append(get_recall_at_k(results_glm2, k, match_pct_threshold))\n",
    "    esm2_recalls.append(get_recall_at_k(results_esm2, k, match_pct_threshold))\n",
    "    blastp_recalls.append(get_recall_at_k(results_blastp, k, match_pct_threshold))\n",
    "\n",
    "plt.figure(figsize=(6, 6), dpi=300)\n",
    "plt.plot(k_values, mmseqs_recalls, label='MMseqs2', color='#FFA500')\n",
    "plt.plot(k_values, glm2_recalls, label='Gaia', color='#2edd97')\n",
    "plt.plot(k_values, esm2_recalls, label='ESM2', color='#00A5FF')\n",
    "plt.plot(k_values, blastp_recalls, label='BLASTp', color='gray')\n",
    "\n",
    "\n",
    "plt.xlabel('K', fontsize=14)\n",
    "plt.ylabel('Recall', fontsize=14)\n",
    "plt.legend(loc='lower right', fontsize=12)\n",
    "plt.title('Genomic context sensitivity', fontsize=16)\n",
    "plt.grid(False)\n",
    "plt.xticks(fontsize=14)\n",
    "plt.yticks(fontsize=14)\n",
    "plt.xlim(1, 10)\n",
    "\n"
   ]
  }
 ],
 "metadata": {
  "kernelspec": {
   "display_name": ".glm2-env",
   "language": "python",
   "name": "python3"
  },
  "language_info": {
   "codemirror_mode": {
    "name": "ipython",
    "version": 3
   },
   "file_extension": ".py",
   "mimetype": "text/x-python",
   "name": "python",
   "nbconvert_exporter": "python",
   "pygments_lexer": "ipython3",
   "version": "3.10.12"
  }
 },
 "nbformat": 4,
 "nbformat_minor": 2
}
